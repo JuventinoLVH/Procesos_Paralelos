{
 "cells": [
  {
   "attachments": {},
   "cell_type": "markdown",
   "metadata": {},
   "source": [
    "# Criba\n",
    "---\n",
    "##### Crea una arreglo de *n* elementos, cuando se encuentra un numero primo lo deja **desmarcados** y **Marca** a todos sus multiplos.\n"
   ]
  },
  {
   "cell_type": "code",
   "execution_count": 13,
   "metadata": {},
   "outputs": [],
   "source": [
    "# Librerias necesarias\n",
    "from time import time\n",
    "\n",
    "#Definimos el numero de elementos\n",
    "n = 100"
   ]
  },
  {
   "attachments": {},
   "cell_type": "markdown",
   "metadata": {},
   "source": [
    "---\n",
    "## Criba no paralela "
   ]
  },
  {
   "cell_type": "code",
   "execution_count": 31,
   "metadata": {},
   "outputs": [],
   "source": [
    "def Imprimir_Primos(marcas):\n",
    "    print(\"[\",end=\"\")\n",
    "    for i,marca in enumerate(marcas):\n",
    "        if marca == True:\n",
    "            print(i,\", \",end=\"\")\n",
    "    print(\"\\b\\b ]\")\n"
   ]
  },
  {
   "cell_type": "code",
   "execution_count": 42,
   "metadata": {},
   "outputs": [
    {
     "name": "stdout",
     "output_type": "stream",
     "text": [
      "True\n",
      "[2 , 3 , 5 , 7 , 11 , 13 , 17 , 19 , 23 , 29 , 31 , 37 , 41 , 43 , 47 , 53 , 59 , 61 , 67 , 71 , 73 , 79 , 83 , 89 , 97  ]\n",
      "0.003243684768676758\n"
     ]
    }
   ],
   "source": [
    "tiempo_inicio = time()\n",
    "\n",
    "#True significa que es un numero primo\n",
    "marcas = [True] * (n+1)\n",
    "marcas [0] = False\n",
    "marcas [1] = False\n",
    "\n",
    "# if (argc != 2) { printf (\"Command line: %s <m>\\n\", argv[0]); exit (1);}\n",
    "#n = atoi(argv[1]); \n",
    "\n",
    "numero_primo = 2\n",
    "while (numero_primo < n):\n",
    "    \n",
    "    i = numero_primo + numero_primo\n",
    "    while (i <= n ):\n",
    "        marcas[i] = False\n",
    "        i += numero_primo\n",
    "\n",
    "    numero_primo +=1\n",
    "    while(numero_primo <= n and marcas[numero_primo] == False ):\n",
    "        numero_primo += 1\n",
    "\n",
    "total_primos = True in marcas \n",
    "print (total_primos)\n",
    "\n",
    "\n",
    "\n",
    "Imprimir_Primos(marcas)\n",
    "  \n",
    "tiempo_fin = time()\n",
    "print ( tiempo_fin - tiempo_inicio)"
   ]
  },
  {
   "attachments": {},
   "cell_type": "markdown",
   "metadata": {},
   "source": [
    "\n",
    "### Calcular Gap\n"
   ]
  },
  {
   "cell_type": "code",
   "execution_count": 46,
   "metadata": {},
   "outputs": [
    {
     "name": "stdout",
     "output_type": "stream",
     "text": [
      "8\n"
     ]
    }
   ],
   "source": [
    "primo_anterior = 2\n",
    "max_gap = 0\n",
    "i=0\n",
    "for marca in (marcas) :\n",
    "    if marca == True:\n",
    "        gap_actual = i - primo_anterior\n",
    "        max_gap  =max(gap_actual,max_gap)\n",
    "        primo_anterior = i\n",
    "    i+=1  \n",
    "\n",
    "print(max_gap)\n",
    "        "
   ]
  },
  {
   "cell_type": "code",
   "execution_count": null,
   "metadata": {},
   "outputs": [],
   "source": []
  }
 ],
 "metadata": {
  "kernelspec": {
   "display_name": "Python 3",
   "language": "python",
   "name": "python3"
  },
  "language_info": {
   "codemirror_mode": {
    "name": "ipython",
    "version": 3
   },
   "file_extension": ".py",
   "mimetype": "text/x-python",
   "name": "python",
   "nbconvert_exporter": "python",
   "pygments_lexer": "ipython3",
   "version": "3.6.2 (v3.6.2:5fd33b5, Jul  8 2017, 04:57:36) [MSC v.1900 64 bit (AMD64)]"
  },
  "orig_nbformat": 4,
  "vscode": {
   "interpreter": {
    "hash": "9c43f423247bd0c67f6de4973e7e9f0055dbd5fe8e4d93d86b635664657df2b2"
   }
  }
 },
 "nbformat": 4,
 "nbformat_minor": 2
}
